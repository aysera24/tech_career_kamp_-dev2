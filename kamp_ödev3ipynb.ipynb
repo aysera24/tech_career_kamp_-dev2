{
  "nbformat": 4,
  "nbformat_minor": 0,
  "metadata": {
    "colab": {
      "provenance": []
    },
    "kernelspec": {
      "name": "python3",
      "display_name": "Python 3"
    },
    "language_info": {
      "name": "python"
    }
  },
  "cells": [
    {
      "cell_type": "markdown",
      "source": [
        "**Soru 1 : Liste Metotları**"
      ],
      "metadata": {
        "id": "W3KSK1kry67X"
      }
    },
    {
      "cell_type": "code",
      "execution_count": null,
      "metadata": {
        "colab": {
          "base_uri": "https://localhost:8080/"
        },
        "id": "4NLkrbO_v35P",
        "outputId": "6592feb5-6269-4289-d150-da3a3fe2f01c"
      },
      "outputs": [
        {
          "output_type": "stream",
          "name": "stdout",
          "text": [
            "Toplamda alınan notlar:[100, 92, 85, 76]\n",
            "En yüksek not:100\n",
            "En düşük not:76\n",
            "Küçükten büyüşe sıralı liste:[76, 85, 92, 100]\n"
          ]
        }
      ],
      "source": [
        "notlar = [85, 92, 76, 92, 100, 76, 85, 92]\n",
        "#tekrar eden elemanlardan bir tane olacak şekilde listeyi düzenle.\n",
        "#Liste içerisinde yer alan sayıyı bir kez almak için set() kullanılır döngü ile birlikte.\n",
        "#Her bir elemanın teker teker taranması lazım.\n",
        "tekrarsiz_notlar = []\n",
        "for notes in set(notlar): #set(notlar) diyerek her bir elemanı bir kez aldık\n",
        "  tekrarsiz_notlar.append(notes)\n",
        "print(f\"Toplamda alınan notlar:{tekrarsiz_notlar}\")\n",
        "\n",
        "#en yüksek not\n",
        "en_yüksek_not = max(tekrarsiz_notlar)\n",
        "print(f\"En yüksek not:{en_yüksek_not}\")\n",
        "\n",
        "#En düşük not\n",
        "en_düşük_not = min(tekrarsiz_notlar)\n",
        "print(f\"En düşük not:{en_düşük_not}\")\n",
        "\n",
        "#küçükten büyüğe sıralamak için sort() kullan\n",
        "sirali_liste = sorted(tekrarsiz_notlar)\n",
        "print(f\"Küçükten büyüşe sıralı liste:{sirali_liste}\")\n"
      ]
    },
    {
      "cell_type": "markdown",
      "source": [
        "**Soru 2 : Sayılar**"
      ],
      "metadata": {
        "id": "jGZqxvHV7KiI"
      }
    },
    {
      "cell_type": "code",
      "source": [
        "# 1: sayıyı kullanıcıdan iste\n",
        "sayi = input(\"Sayı giriniz:\")\n",
        "# 2: fonksiyonu tanımla\n",
        "def armstrong(sayi): #parametre olarak kullanıcıdan aldığımız sayıyı verdik\n",
        "# 3: aldığın sayıyı yazdır\n",
        "  #print(f\"Girilen sayı: {sayi}\")\n",
        "# 4: eğer girilen ifade sayılardan oluşmuyor ise hata ver. Kullanıcıdan tekrardan sayı iste\n",
        "  again  = True\n",
        "  while again:\n",
        "    if sayi.isdigit() == False: #bu sayı içermiyor demek oluyor.\n",
        "      print(\"Yalnızca sayı girilmelidir.\")\n",
        "      sayi = input(\"Sayı giriniz:\")\n",
        "    elif sayi.isdigit() == True:\n",
        "      sayi = int(sayi)\n",
        "      again = False\n",
        "      print(f\"Geçerli sayı: {sayi}\")\n",
        "# 5: Geçerli sayı alındıktan sonra sayının her bir basamağını ekrana yazdır Önce stringe çevirmen lazım.\n",
        "  sayi = str(sayi) #şu anda str veri tipinde\n",
        "  liste1 = [] # basamak değerlerini tek bir listede toplamak için\n",
        "  for basamak in sayi:\n",
        "    liste1.append(basamak)\n",
        "  #print(liste1) # buradaki sayıların hepsi str veri tipinde\n",
        "# 6: Listeye aldığın elemanları int veri tipine çevir. Döngü ile yapabilirsin\n",
        "  liste1_güncel = []\n",
        "  for eleman in liste1:\n",
        "    eleman = int(eleman)\n",
        "    liste1_güncel.append(eleman)\n",
        "  #print(liste1_güncel) #int veri tipinde oldu\n",
        "# 7: Her birinin küpünü alıp ayrı bir listede topla.\n",
        "  liste2 = list(x ** 3 for x in liste1_güncel)\n",
        "  #print(liste2)\n",
        "# 8: Bu liste2 elemanlarının toplamını bul. Arstrong sayısı olup olmadığını kontrol et.\n",
        "  sum = 0\n",
        "  for eleman1 in liste2:\n",
        "    sum += eleman1\n",
        "  print(f\"Sayıların toplamı: {sum}\")\n",
        "  if sum == int(sayi): #yukarıda str yaptığımız sayi ifadesini tekrardan int yaptık\n",
        "    print(f\"Girdiğiniz sayı olan {sayi} sayısı, bir Armstrong sayısıdır.\")\n",
        "  else:\n",
        "    print(f\"Girdiğiniz sayı olan {sayi} sayısı, bir Armstrong sayısı değildir.\")\n",
        "# 9: Fonksiyonu çağır.\n",
        "armstrong(sayi)\n",
        "\n",
        "\n"
      ],
      "metadata": {
        "colab": {
          "base_uri": "https://localhost:8080/"
        },
        "id": "Q2heGzey1is8",
        "outputId": "f6a297a7-df2d-40f5-aa94-0f1afb416edf"
      },
      "execution_count": null,
      "outputs": [
        {
          "output_type": "stream",
          "name": "stdout",
          "text": [
            "Sayı giriniz:123\n",
            "Geçerli sayı: 123\n",
            "Sayıların toplamı: 36\n",
            "Girdiğiniz sayı olan 123 sayısı, bir Armstrong sayısı değildir.\n"
          ]
        }
      ]
    },
    {
      "cell_type": "markdown",
      "source": [
        "**Soru 3: Kümeler**"
      ],
      "metadata": {
        "id": "RQ7jYwF2Oe4o"
      }
    },
    {
      "cell_type": "code",
      "source": [
        "A = {\"Python\", \"R\", \"SQL\",\"Java\"}\n",
        "B = {\"C++\", \"Python\", \"JavaScript\",\"SQL\"}\n",
        "\n",
        "#1 : Ortak dilleri bul\n",
        "A.intersection_update(B)\n",
        "print(f\"İki kümenin kesişimi: {A}\")\n",
        "\n",
        "#2: Sadece A'da olan diller\n",
        "print(A.difference(B))\n",
        "\n",
        "#3: İki kümenin birleşimini alfabetik olarak yaz\n",
        "birlesim = A.union(B)\n",
        "birlesim = list(birlesim) #direkt kümenin üzerinde işlem yapamazsın\n",
        "print(sorted(birlesim))"
      ],
      "metadata": {
        "id": "-djs_pUA8QLt",
        "colab": {
          "base_uri": "https://localhost:8080/"
        },
        "outputId": "d9c3a24f-f841-4e50-da0a-8fb187f09ae5"
      },
      "execution_count": null,
      "outputs": [
        {
          "output_type": "stream",
          "name": "stdout",
          "text": [
            "['C++', 'Java', 'JavaScript', 'Python', 'R', 'SQL']\n"
          ]
        }
      ]
    },
    {
      "cell_type": "markdown",
      "source": [
        "**Soru 4: Modüller**"
      ],
      "metadata": {
        "id": "O-bPBb0PQeNu"
      }
    },
    {
      "cell_type": "code",
      "source": [
        "import random\n",
        "import statistics\n",
        "rastgele = random.sample(range(1,101),10) #random.sample(liste, adet) : rastgele eleman seçer\n",
        "print(rastgele)\n",
        "ort = statistics.mean(rastgele)\n",
        "print(f\"Listenin ortalaması: {ort}\")\n",
        "stdev = statistics.stdev(rastgele)\n",
        "print(f\"Listenin standart sapması: {stdev}\")"
      ],
      "metadata": {
        "id": "EB1cNAXP9ClL",
        "colab": {
          "base_uri": "https://localhost:8080/"
        },
        "outputId": "d40e794e-bd55-4293-8f96-74069914aa59"
      },
      "execution_count": null,
      "outputs": [
        {
          "output_type": "stream",
          "name": "stdout",
          "text": [
            "[89, 13, 92, 7, 98, 67, 21, 68, 48, 1]\n",
            "Listenin ortalaması: 50.4\n",
            "Listenin standart sapması: 37.51207213092281\n"
          ]
        }
      ]
    },
    {
      "cell_type": "markdown",
      "source": [
        "**Soru 5: Fonksiyonlar**"
      ],
      "metadata": {
        "id": "USdECB0JSNh-"
      }
    },
    {
      "cell_type": "code",
      "source": [
        "#1: Fonksiyonu tanımla\n",
        "metin = input(\"Sayaca konulacak olan metin: \").lower()\n",
        "\n",
        "def kelime_sayaci(metin):\n",
        "  #2: Metindeki toplam kelime sayısını bul\n",
        "  kelimeler = metin.split(\" \") #boşluğa göre her bir kelimeyi alsın\n",
        "  kelime_sayisi = len(kelimeler)\n",
        "  print(f\"Metinde bulunan kelime sayısı {kelime_sayisi}\")\n",
        "\n",
        "  #3: En uzun kelimeyi bul\n",
        "  for kelime in kelimeler:\n",
        "    uzunluk = max(kelimeler, key=len) #key parametresi ile karşılaştırmanın neye göre yapılacağını söyledik\n",
        "  print(f\"En uzun kelime : {uzunluk}\")\n",
        "\n",
        "  #4: En sık geçen kelime\n",
        "  from collections import Counter\n",
        "  #listeyi tanımla\n",
        "  kelimeler\n",
        "  sayac = Counter(kelimeler)\n",
        "  #print(sayac) #en sık geçen kelimeden en az geçen kelimeye göre sıralama yapar\n",
        "  #most_common(n) metodunu kullan\n",
        "  en_sık = sayac.most_common(1)[0][0]\n",
        "  print(f\"En sık geçen kelime: {en_sık}\")\n",
        "\n",
        "\n",
        "\n",
        "kelime_sayaci(metin)"
      ],
      "metadata": {
        "colab": {
          "base_uri": "https://localhost:8080/"
        },
        "id": "h3Y9n_3-QrRh",
        "outputId": "44c580cf-3557-4077-91bb-a7ded7373f88"
      },
      "execution_count": null,
      "outputs": [
        {
          "output_type": "stream",
          "name": "stdout",
          "text": [
            "Sayaca konulacak olan metin: ali uyudu\n",
            "Metinde bulunan kelime sayısı 2\n",
            "En uzun kelime : uyudu\n",
            "En sık geçen kelime: ali\n"
          ]
        }
      ]
    },
    {
      "cell_type": "markdown",
      "source": [
        "**Soru 6: Gömülü Fonksiyonlar**\n",
        "\n",
        "\n"
      ],
      "metadata": {
        "id": "ZtoigmXO2rN2"
      }
    },
    {
      "cell_type": "code",
      "source": [
        "sayilar = [5,12,7,18,24,3,16]\n",
        "#1 Sadece çift sayıları al.\n",
        "#filter(fonksiyon, veri) verilen özelliğe sahip olan verileri alır\n",
        "cift_sayilar = list(filter(lambda x : x%2==0, sayilar))\n",
        "print(f\"Listedeki çift sayılar : {cift_sayilar}\")\n",
        "#2.Karelerini al.\n",
        "#map() ilk parametresi fonksiyon. İkinci parametresinde belirtilen işlemin her bir elemanı üzerinde uygulanacağı veri\n",
        "kareleri = list(map(lambda y : y**2, cift_sayilar))\n",
        "print(f\"Çift sayıların kareleri : {kareleri}\")\n",
        "#3.Azalan sırada sırala\n",
        "azalan = sorted(kareleri,reverse=True)\n",
        "print(f\"Karelerin azalan sırada sıralanışı : {azalan}\")\n",
        "\n"
      ],
      "metadata": {
        "id": "9lB4jw0uT7F4",
        "colab": {
          "base_uri": "https://localhost:8080/"
        },
        "outputId": "717f203d-689b-44f3-ca63-bb6da1c7f912"
      },
      "execution_count": 5,
      "outputs": [
        {
          "output_type": "stream",
          "name": "stdout",
          "text": [
            "Listedeki çift sayılar : [12, 18, 24, 16]\n",
            "Çift sayıların kareleri : [144, 324, 576, 256]\n",
            "Karelerin azalan sırada sıralanışı : [576, 324, 256, 144]\n"
          ]
        }
      ]
    },
    {
      "cell_type": "markdown",
      "source": [
        "**Soru 7 : Lambda İfadeleri**"
      ],
      "metadata": {
        "id": "7fgVcAyU5iI0"
      }
    },
    {
      "cell_type": "code",
      "source": [
        "kelimeler = [\"veri\",\"bilim\",\"analiz\",\"yapayzeka\",\"python\"]\n",
        "siralama = sorted(kelimeler, key=lambda kelime : len(kelime)) #sorted() önce liste verilir, sonra yapılacak işlem key= ile verilir.\n",
        "print(siralama)"
      ],
      "metadata": {
        "colab": {
          "base_uri": "https://localhost:8080/"
        },
        "id": "asD9yQAR36fs",
        "outputId": "e8bbccfa-77ee-4361-fd10-e43c55ef9437"
      },
      "execution_count": 10,
      "outputs": [
        {
          "output_type": "stream",
          "name": "stdout",
          "text": [
            "['veri', 'bilim', 'analiz', 'python', 'yapayzeka']\n"
          ]
        }
      ]
    },
    {
      "cell_type": "markdown",
      "source": [
        "**Soru 8 : Metotlar**"
      ],
      "metadata": {
        "id": "1KUAkfFL8mjs"
      }
    },
    {
      "cell_type": "code",
      "source": [
        "#Önce kullanıcıdan bu string değerini iste\n",
        "string = input(\"String değeri: \")\n",
        "#1. Fonksiyonu tanımla\n",
        "def rakam_bul(string):\n",
        "  #2. Her bir harfin üzerinde dolaşsın ve sayı olanları ayrı bir listede toplasın\n",
        "  sayilar = [] #sayılar bu listede toplansın\n",
        "  harfler = [] #harfler bu listede toplansın\n",
        "\n",
        "  for eleman in string:\n",
        "    if eleman.isdigit() == True:\n",
        "      sayilar.append(eleman)\n",
        "    elif eleman.isalpha () == True:\n",
        "      harfler.append(eleman)\n",
        "\n",
        "  print(f\"Girilen ifadede yer alan sayılar: {sayilar}\")\n",
        "  print(f\"Girilen ifadede yer alan harfler: {harfler}\")\n",
        "\n",
        "  #3. Sayılar listesini inte çevir\n",
        "  sayilar_int_veri = []\n",
        "  for sayi in sayilar:\n",
        "    sayi = int(sayi)\n",
        "    sayilar_int_veri.append(sayi)\n",
        "  print(f\"Girilen ifadede yer alan sayıların matematiksel değeri: {sayilar_int_veri}\")\n",
        "  #4. Sayıların toplamını bul\n",
        "  sayilarin_toplami = sum(sayilar_int_veri)\n",
        "  print(f\"Sayıların toplamı : {sayilarin_toplami}\")\n",
        "\n",
        "\n",
        "\n",
        "rakam_bul(string)\n",
        "\n",
        "\n"
      ],
      "metadata": {
        "colab": {
          "base_uri": "https://localhost:8080/"
        },
        "id": "C0MjlbBU8Oke",
        "outputId": "ae2c3464-3540-4264-dafc-e83adcd31517"
      },
      "execution_count": 30,
      "outputs": [
        {
          "output_type": "stream",
          "name": "stdout",
          "text": [
            "String değeri: anc3456bdfdjjs4564\n",
            "Girilen ifadede yer alan sayılar: ['3', '4', '5', '6', '4', '5', '6', '4']\n",
            "Girilen ifadede yer alan harfler: ['a', 'n', 'c', 'b', 'd', 'f', 'd', 'j', 'j', 's']\n",
            "Girilen ifadede yer alan sayıların matematiksel değeri: [3, 4, 5, 6, 4, 5, 6, 4]\n",
            "Sayıların toplamı : 37\n"
          ]
        }
      ]
    },
    {
      "cell_type": "markdown",
      "source": [
        "**Soru 9 : Numpy 1**"
      ],
      "metadata": {
        "id": "VBvCvoLzKGT8"
      }
    },
    {
      "cell_type": "code",
      "source": [
        "import numpy as np\n",
        "#rastgele dizi oluşturduk\n",
        "dizi = np.random.randint(0,51,(1,10)) #np.random.randint(başlangıç, bitiş+1, (satır, sütun))\n",
        "print(dizi)\n",
        "\n",
        "ort = np.mean(dizi)\n",
        "print(f\"Ortalama : {ort}\")\n",
        "\n",
        "st_sapma = np.std(dizi)\n",
        "print(f\"Standart sapma : {st_sapma}\")\n",
        "\n",
        "max_deger = np.max(dizi)\n",
        "print(f\"En büyük değer : {max_deger}\")\n",
        "\n",
        "\n",
        "\n"
      ],
      "metadata": {
        "colab": {
          "base_uri": "https://localhost:8080/"
        },
        "id": "Od52IabrAlFF",
        "outputId": "c5fe5016-2534-4b7a-c48a-ca5d9bcb2215"
      },
      "execution_count": 32,
      "outputs": [
        {
          "output_type": "stream",
          "name": "stdout",
          "text": [
            "[[24  1  3 49  3 18 24 46 45 35]]\n",
            "Ortalama : 24.8\n",
            "Standart sapma : 17.6397278890577\n",
            "En büyük değer : 49\n"
          ]
        }
      ]
    },
    {
      "cell_type": "markdown",
      "source": [
        "**Soru 10 : Numpy 2**"
      ],
      "metadata": {
        "id": "qWIaBrkDMBi9"
      }
    },
    {
      "cell_type": "code",
      "source": [
        "import numpy as np\n",
        "veri = np.random.rand(5,5) # np.random.rand(satır, sütun) 0-1 arası değerlerden matris oluşturur\n",
        "#print(veri[0])\n",
        "ort = np.mean(veri, axis = 0)\n",
        "#print(f\"Sütunların ortalaması : {ort}\")\n",
        "büyük = []\n",
        "for eleman in np.nditer(veri): # her elemanı dolaştı\n",
        "#Bool değerlerini kullanabilirsin\n",
        "\n"
      ],
      "metadata": {
        "colab": {
          "base_uri": "https://localhost:8080/"
        },
        "id": "yvYoeZOeBeNg",
        "outputId": "19cd5a92-7f74-4e93-919e-e4295fe99d99"
      },
      "execution_count": 51,
      "outputs": [
        {
          "output_type": "stream",
          "name": "stdout",
          "text": [
            "[array(0.93409194), array(0.58453078), array(0.63801742), array(0.75651951), array(0.68838948), array(0.87831548), array(0.87174743), array(0.94555009), array(0.91361316), array(0.5034077), array(0.9573434), array(0.96727581), array(0.8311554)]\n"
          ]
        }
      ]
    },
    {
      "cell_type": "markdown",
      "source": [
        "**NOT: PROJEYİ YETİŞTİREMEDİM. BİRAZ ZOR GELDİ VE ZAMAN DA BENİM AÇIMDAN AZ OLDU BİRAZ. DAHA ÇOK ZAMAN AYIRIP PROJEYE DETAYLI OLARAK ÇALIŞMAM GEREKİYOR.**"
      ],
      "metadata": {
        "id": "yXnBgwXNgxBD"
      }
    },
    {
      "cell_type": "code",
      "source": [],
      "metadata": {
        "id": "oWQrcPsqNGxF"
      },
      "execution_count": 37,
      "outputs": []
    }
  ]
}