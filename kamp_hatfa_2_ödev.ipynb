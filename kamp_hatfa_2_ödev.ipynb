{
  "nbformat": 4,
  "nbformat_minor": 0,
  "metadata": {
    "colab": {
      "provenance": []
    },
    "kernelspec": {
      "name": "python3",
      "display_name": "Python 3"
    },
    "language_info": {
      "name": "python"
    }
  },
  "cells": [
    {
      "cell_type": "markdown",
      "source": [
        "Soru 1 : Sayı Analizi"
      ],
      "metadata": {
        "id": "JsKUgl6tBzEw"
      }
    },
    {
      "cell_type": "code",
      "execution_count": 1,
      "metadata": {
        "colab": {
          "base_uri": "https://localhost:8080/"
        },
        "id": "BEgEbbk8BuOl",
        "outputId": "5f5e753f-601b-4bf1-c339-2cb336f5f41f"
      },
      "outputs": [
        {
          "output_type": "stream",
          "name": "stdout",
          "text": [
            "Bir sayı giriniz: 45\n",
            "Pozitif tek\n"
          ]
        }
      ],
      "source": [
        "istenen_sayi = int(input(\"Bir sayı giriniz: \"))\n",
        "if istenen_sayi < 0 and istenen_sayi % 2 == 0:\n",
        "    print(\"Negatif çift\")\n",
        "elif istenen_sayi < 0 and istenen_sayi % 2 != 0:\n",
        "    print(\"Negatif tek\")\n",
        "elif istenen_sayi > 0 and istenen_sayi % 2 == 0:\n",
        "    print(\"Pozitif çift\")\n",
        "elif istenen_sayi > 0 and istenen_sayi % 2 != 0:\n",
        "    print(\"Pozitif tek\")\n"
      ]
    },
    {
      "cell_type": "markdown",
      "source": [
        "Soru 2 : Harf Frekansı"
      ],
      "metadata": {
        "id": "-XDwl9mbB6HV"
      }
    },
    {
      "cell_type": "code",
      "source": [
        "kelime = str(input(\"Bir kelime giriniz: \"))\n",
        "for harf in set(kelime): #her harfi bir kere saydırmak için set() fonksiyonu kullanılır. Tekrarlayan harfler sadece 1 kez yazılır.\n",
        "    harf_sayisi = str(kelime.count(harf)) #her bir harfin kelimede ne kadar geçtiğini yazar.\n",
        "    #sözlük yapısında anahtarlar harf; değerler ise harf_sayisi olur. zip() metodu kullanılır.\n",
        "    sozluk = dict(zip(harf, harf_sayisi))\n",
        "    print(sozluk)\n",
        "    #print(f\"{harf} : {harf_sayisi}\") #her bir harfi sayması için döngünün içerisinde olması lazım"
      ],
      "metadata": {
        "id": "QQRSCVaSB-Fi"
      },
      "execution_count": null,
      "outputs": []
    },
    {
      "cell_type": "markdown",
      "source": [
        "Soru 3 : Şifre Kontrolü"
      ],
      "metadata": {
        "id": "dpUgLNbsCADM"
      }
    },
    {
      "cell_type": "code",
      "source": [
        "sifre = input(\"Şifrenizi girin: \")\n",
        "if len(sifre) < 8:\n",
        "    print(\"Şifre en az 8 karakterli olmalıdır. Yeniden deneyin!\")\n",
        "elif not sifre == sifre.upper(): # Büyük harf kontrolü # Kodun çalışması için not kullandık.\n",
        "        print(\"Şifre en az 1 büyük harf içermelidir. Yeniden deneyin!\")\n",
        "elif not any(harf.isdigit() for harf in sifre): #Rakam kontrolü\n",
        "        print(\"Şifre en az 1 rakam içermelidir. Yeniden deneyin!\")\n",
        "else:\n",
        "    print(\"Şifreniz başarıyla oluşturulmuş!\")"
      ],
      "metadata": {
        "colab": {
          "base_uri": "https://localhost:8080/"
        },
        "id": "bwMxfJ8JCHAq",
        "outputId": "6161f241-f6f2-4f37-d0cc-8b1c32e690cd"
      },
      "execution_count": 2,
      "outputs": [
        {
          "output_type": "stream",
          "name": "stdout",
          "text": [
            "Şifrenizi girin: alla\n",
            "Şifre en az 8 karakterli olmalıdır. Yeniden deneyin!\n"
          ]
        }
      ]
    },
    {
      "cell_type": "markdown",
      "source": [
        "Soru 4 : Liste İşlemleri"
      ],
      "metadata": {
        "id": "RiJYzxLbCIs_"
      }
    },
    {
      "cell_type": "code",
      "source": [
        "liste = [12, 4, 25, 30, 7, 18]\n",
        "listedeki_eleman_sayisi= len(liste)\n",
        "print(f\"Listedeki eleman sayısı:{listedeki_eleman_sayisi}\")\n",
        "elemanlarin_toplami = sum(liste)\n",
        "print(f\"Listedeki elemanların toplamı:{elemanlarin_toplami}\")\n",
        "ort = elemanlarin_toplami / listedeki_eleman_sayisi\n",
        "print(f\"Listenin ortalaması:{ort}\")\n",
        "ortalamadan_büyük_sayilar = [] #bunun döngünün dışında olması lazım, döngünün içinde olursa her seferinde liste kendini sıfırlar.\n",
        "for eleman in liste:\n",
        "  if eleman > ort:\n",
        "      ortalamadan_büyük_sayilar.append(eleman)\n",
        "print(f\"Ortalama değerinden büyük sayılar: {ortalamadan_büyük_sayilar}\") #döngünün dışında olması lazım, öbür türlü her bir eleman için baştan üzerine\n",
        "#ekleyerek yazdırma işlemi yapar.\n",
        "\n",
        "\n",
        "\n",
        "\n",
        "\n",
        ""
      ],
      "metadata": {
        "colab": {
          "base_uri": "https://localhost:8080/"
        },
        "id": "bwPRWzR0CHaf",
        "outputId": "1dda90e6-bde4-4b31-dbab-8d63b8977b34"
      },
      "execution_count": 16,
      "outputs": [
        {
          "output_type": "stream",
          "name": "stdout",
          "text": [
            "Listedeki eleman sayısı:6\n",
            "Listedeki elemanların toplamı:96\n",
            "Listenin ortalaması:16.0\n",
            "Ortalama değerinden büyük sayılar: [25, 30, 18]\n"
          ]
        }
      ]
    },
    {
      "cell_type": "markdown",
      "source": [
        "Soru 5 : Nested Loop (Desen)"
      ],
      "metadata": {
        "id": "7GCA_t7METql"
      }
    },
    {
      "cell_type": "code",
      "source": [
        "for i in range(6):\n",
        "  for j in range(i):\n",
        "    print(\"*\", end=\"\")\n",
        "  print()"
      ],
      "metadata": {
        "colab": {
          "base_uri": "https://localhost:8080/"
        },
        "id": "7DPRZpOcCVtV",
        "outputId": "8df2b812-382b-44ae-b489-782b77325e8a"
      },
      "execution_count": 17,
      "outputs": [
        {
          "output_type": "stream",
          "name": "stdout",
          "text": [
            "\n",
            "*\n",
            "**\n",
            "***\n",
            "****\n",
            "*****\n"
          ]
        }
      ]
    },
    {
      "cell_type": "markdown",
      "source": [
        "Soru 6 : While Döngüsü"
      ],
      "metadata": {
        "id": "RLKS_0m_HqSf"
      }
    },
    {
      "cell_type": "code",
      "source": [
        "#Bunu çözemedim.\n"
      ],
      "metadata": {
        "id": "Yu2-InxWHnjq"
      },
      "execution_count": 43,
      "outputs": []
    },
    {
      "cell_type": "markdown",
      "source": [
        "Soru 7 : Palindrom Kontrolü"
      ],
      "metadata": {
        "id": "EOCOvOyUaLTt"
      }
    },
    {
      "cell_type": "code",
      "source": [
        "#Hem düz hem de tersten okununca aynı kelime olacak\n",
        "kelime = str(input(\"Kelime: \"))\n",
        "i = len(kelime) - 1 # girilen kelimenin harf sayısının 1 eksiği\n",
        "sonuc =\"\" # sonucu atamak için boş bir liste\n",
        "while i > 0: # kelimenin uzunluğu 0'dan büyük olduğu sürece döngü çalışsın\n",
        "  sonuc += kelime[i] #boş olan listeye harflerin indekslerini ekler\n",
        "  i += -1 # En sondaki harfin indeksinden başlayarak 1 eksilterek listeye eklemeye devam eder, böylece kelime tersten yazılmış olur.\n",
        "if sonuc == kelime:\n",
        "  print(\"Kelime palindrom kelimedir\")\n",
        "else:\n",
        "  print(\"Kelime palindrom kelime değildir.\")"
      ],
      "metadata": {
        "colab": {
          "base_uri": "https://localhost:8080/"
        },
        "id": "lQaCnK4tIDRq",
        "outputId": "39a8dc07-d4fa-41b7-c80d-87bee2af3924"
      },
      "execution_count": 45,
      "outputs": [
        {
          "output_type": "stream",
          "name": "stdout",
          "text": [
            "Kelime: akli\n",
            "Kelime palindrom kelime değildir.\n"
          ]
        }
      ]
    },
    {
      "cell_type": "markdown",
      "source": [
        "Soru 8 : List Comprehension"
      ],
      "metadata": {
        "id": "s-knEp1nbiPA"
      }
    },
    {
      "cell_type": "code",
      "source": [
        "list = range(1, 101)\n",
        "Liste = []\n",
        "for eleman in list:\n",
        "  if eleman % 15 == 0:\n",
        "    Liste.append(eleman)\n",
        "print(Liste) #bunun döngünün dışında olması lazım ki her eleman için sadece toplamda 1 kez çalışsın, her seferinde başa dönmesin.\n",
        "Liste2 = [i*i for i in Liste] #bu da bir liste yapısındadır. Liste içerisindeki her bir elemanı i değişkenine atadık ve Liste2 içine yazdırılırken de\n",
        "#karesi olacak şekilde yazdırılsın dedik\n",
        "print(Liste2)\n",
        "\n",
        ""
      ],
      "metadata": {
        "colab": {
          "base_uri": "https://localhost:8080/"
        },
        "id": "GjSwzsyqYiDb",
        "outputId": "1fc24479-3d7f-444d-a1c9-040cfb9b0ffd"
      },
      "execution_count": 57,
      "outputs": [
        {
          "output_type": "stream",
          "name": "stdout",
          "text": [
            "[15, 30, 45, 60, 75, 90]\n",
            "[225, 900, 2025, 3600, 5625, 8100]\n"
          ]
        }
      ]
    },
    {
      "cell_type": "markdown",
      "source": [
        "Soru 9 : String İşlemleri"
      ],
      "metadata": {
        "id": "BOP6PA3WtoGR"
      }
    },
    {
      "cell_type": "code",
      "source": [
        "cümle = str(input(\"Bir cümle yazınız: \"))\n",
        "kelime_kelime = cümle.split(\" \") # boşluklarına göre cümledeki her bir ifade ayrı bir liste içerisine atılır.\n",
        "print(f\"Cümlede yer alan kelimeler : {kelime_kelime}\")\n",
        "yeni_string = cümle.title()\n",
        "print(yeni_string)"
      ],
      "metadata": {
        "colab": {
          "base_uri": "https://localhost:8080/"
        },
        "id": "mRW1nqQIrFEA",
        "outputId": "e42b54ec-d83d-4cc1-c649-aecfa24d274b"
      },
      "execution_count": 59,
      "outputs": [
        {
          "output_type": "stream",
          "name": "stdout",
          "text": [
            "Bir cümle yazınız: Ali elma yedi.\n",
            "Cümlede yer alan kelimeler : ['Ali', 'elma', 'yedi.']\n",
            "Ali Elma Yedi.\n"
          ]
        }
      ]
    },
    {
      "cell_type": "markdown",
      "source": [
        "Mini Proje"
      ],
      "metadata": {
        "id": "1pm6Z-EivJvb"
      }
    },
    {
      "cell_type": "code",
      "source": [
        "#Tüm yorumları aldık\n",
        "yorum1 = str(input(\"Film hakkında yorumunuz: \"))\n",
        "yorum2 = str(input(\"Film hakkında yorumunuz: \"))\n",
        "yorum3 = str(input(\"Film hakkında yorumunuz: \"))\n",
        "yorum4 = str(input(\"Film hakkında yorumunuz: \"))\n",
        "yorum5 = str(input(\"Film hakkında yorumunuz: \"))\n",
        "\n",
        "##########\n",
        "\n",
        "yorum_listesi = [yorum1, yorum2, yorum3, yorum4, yorum5]\n",
        "print(yorum_listesi)\n",
        "\n",
        "##########\n",
        "\n",
        "#toplam yorum sayısı\n",
        "print(f\"Toplam yorum sayısı : {len(yorum_listesi)}\")\n",
        "\n",
        "##########\n",
        "\n",
        "# İyi geçen yorum sayısı\n",
        "\n",
        "iyi_gecen_yorum = []\n",
        "for yorum in yorum_listesi:\n",
        "  if \"iyi\" in yorum.lower():\n",
        "    iyi_gecen_yorum.append(yorum)\n",
        "print(f\"İyi ifadesinin yer aldığı yorum sayısı : {len(iyi_gecen_yorum)}\")\n",
        "\n",
        "##########\n",
        "\n",
        "#En uzun yorum\n",
        "en_uzun_yorum = max([yorum for yorum in yorum_listesi],key=len)\n",
        "print(f\"En uzun yorum : {en_uzun_yorum}\")\n",
        "\n",
        "#########\n",
        "\n",
        "#En kısa yorum\n",
        "en_kısa_yorum = min([yorum for yorum in yorum_listesi], key=len)\n",
        "print(f\"En kısa yorum : {en_kısa_yorum}\")\n",
        "\n",
        "#########\n",
        "\n",
        "#Ortalama Uzunluk\n",
        "y1Uzunluk = len(yorum1)\n",
        "y2Uzunluk = len(yorum2)\n",
        "y3Uzunluk = len(yorum3)\n",
        "y4Uzunluk = len(yorum4)\n",
        "y5Uzunluk = len(yorum5)\n",
        "ort_uzunluk = (y1Uzunluk + y2Uzunluk + y3Uzunluk + y4Uzunluk + y5Uzunluk ) / len(yorum_listesi)\n",
        "print(f\"Ortalama uzunluk : {ort_uzunluk}\")\n",
        "\n",
        "\n",
        "\n",
        "\n",
        "\n",
        "\n",
        "\n",
        "\n",
        "\n"
      ],
      "metadata": {
        "colab": {
          "base_uri": "https://localhost:8080/"
        },
        "id": "xf9a9j7UuHNu",
        "outputId": "30a0251a-8ee4-48ca-837f-f8678a8af683"
      },
      "execution_count": 5,
      "outputs": [
        {
          "output_type": "stream",
          "name": "stdout",
          "text": [
            "Film hakkında yorumunuz: Film çok güzeldi\n",
            "Film hakkında yorumunuz: Kötüydü\n",
            "Film hakkında yorumunuz: Ortalama bir filmdi\n",
            "Film hakkında yorumunuz: Gerçekten çok iyi\n",
            "Film hakkında yorumunuz: İyi ama daha iyi olabilirdi\n",
            "['Film çok güzeldi', 'Kötüydü', 'Ortalama bir filmdi', 'Gerçekten çok iyi', 'İyi ama daha iyi olabilirdi']\n",
            "Toplam yorum sayısı : 5\n",
            "İyi ifadesinin yer aldığı yorum sayısı : 2\n",
            "En uzun yorum : İyi ama daha iyi olabilirdi\n",
            "En kısa yorum : Kötüydü\n",
            "Ortalama uzunluk : 4.6\n"
          ]
        }
      ]
    },
    {
      "cell_type": "code",
      "source": [],
      "metadata": {
        "id": "4q-zHF1A_xKC"
      },
      "execution_count": null,
      "outputs": []
    }
  ]
}